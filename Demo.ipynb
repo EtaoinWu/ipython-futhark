{
 "cells": [
  {
   "cell_type": "markdown",
   "metadata": {},
   "source": [
    "# Embed Futhark in iPython Notebook\n",
    "\n",
    "💥💻💥 A data-parallel functional programming language http://futhark-lang.org / http://github.com/hiperfit/futhark\n",
    "\n",
    "### Load extension"
   ]
  },
  {
   "cell_type": "code",
   "execution_count": 1,
   "metadata": {
    "collapsed": true
   },
   "outputs": [],
   "source": [
    "%load_ext futhark"
   ]
  },
  {
   "cell_type": "markdown",
   "metadata": {},
   "source": [
    "### Write futhark code\n",
    "\n",
    "* `%%futhark` magic cell\n",
    "* Add the `gpu` option to compile and run with pyopencl"
   ]
  },
  {
   "cell_type": "code",
   "execution_count": 2,
   "metadata": {},
   "outputs": [
    {
     "name": "stderr",
     "output_type": "stream",
     "text": [
      "Warning: Device limits tile size to 22 (setting was 32)\n"
     ]
    }
   ],
   "source": [
    "%%futhark gpu\n",
    "\n",
    "let conv1d(kernel: [#k]f32)(M: [#m]f32): []f32 =\n",
    "    map (\\i -> reduce (+) 0f32 (map (*) kernel M[i:i+k]))\n",
    "        (iota (m-k+1))\n",
    "\n",
    "entry f(x: f32): f32 = 6.28f32*x/360f32\n",
    "    \n",
    "let main(): []f32 = conv1d [1.5f32, 0f32, 1f32] (map f32 (iota 100))"
   ]
  },
  {
   "cell_type": "markdown",
   "metadata": {},
   "source": [
    "### Use it\n",
    "\n",
    "* Entry points and `main` are available in the Notebook namespace"
   ]
  },
  {
   "cell_type": "code",
   "execution_count": 3,
   "metadata": {},
   "outputs": [
    {
     "name": "stdout",
     "output_type": "stream",
     "text": [
      "0.209333\n",
      "[   2.     4.5    7.     9.5   12.    14.5   17.    19.5   22.    24.5\n",
      "   27.    29.5   32.    34.5   37.    39.5   42.    44.5   47.    49.5\n",
      "   52.    54.5   57.    59.5   62.    64.5   67.    69.5   72.    74.5\n",
      "   77.    79.5   82.    84.5   87.    89.5   92.    94.5   97.    99.5\n",
      "  102.   104.5  107.   109.5  112.   114.5  117.   119.5  122.   124.5\n",
      "  127.   129.5  132.   134.5  137.   139.5  142.   144.5  147.   149.5\n",
      "  152.   154.5  157.   159.5  162.   164.5  167.   169.5  172.   174.5\n",
      "  177.   179.5  182.   184.5  187.   189.5  192.   194.5  197.   199.5\n",
      "  202.   204.5  207.   209.5  212.   214.5  217.   219.5  222.   224.5\n",
      "  227.   229.5  232.   234.5  237.   239.5  242.   244.5]\n"
     ]
    }
   ],
   "source": [
    "print f(12)\n",
    "print main()"
   ]
  },
  {
   "cell_type": "markdown",
   "metadata": {},
   "source": [
    "### Errors handling\n",
    "\n",
    "* Show errors from Futhark compiler"
   ]
  },
  {
   "cell_type": "code",
   "execution_count": 4,
   "metadata": {},
   "outputs": [
    {
     "name": "stderr",
     "output_type": "stream",
     "text": [
      "Declaration of function main at tmpDPrf9J.fut:2:7-2:7 declares return type f32, but body has type i32\n",
      "If you find this error message confusing, uninformative, or wrong, please open an issue at https://github.com/HIPERFIT/futhark/issues.\n"
     ]
    }
   ],
   "source": [
    "%%futhark\n",
    "\n",
    "entry main(): f32 = 42"
   ]
  }
 ],
 "metadata": {
  "kernelspec": {
   "display_name": "Python 2",
   "language": "python",
   "name": "python2"
  },
  "language_info": {
   "codemirror_mode": {
    "name": "ipython",
    "version": 2
   },
   "file_extension": ".py",
   "mimetype": "text/x-python",
   "name": "python",
   "nbconvert_exporter": "python",
   "pygments_lexer": "ipython2",
   "version": "2.7.12"
  }
 },
 "nbformat": 4,
 "nbformat_minor": 2
}
